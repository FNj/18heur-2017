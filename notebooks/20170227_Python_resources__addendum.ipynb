{
 "cells": [
  {
   "cell_type": "markdown",
   "metadata": {},
   "source": [
    "# Resorces for learning Python, numpy, pandas and Jupyter notebooks (addendum)"
   ]
  },
  {
   "cell_type": "markdown",
   "metadata": {},
   "source": [
    "**Read this guide/tutorial first**: [Running Jupyter Notebooks With The Anaconda Python Distribution](https://www.datacamp.com/community/tutorials/tutorial-jupyter-notebook).\n",
    "\n",
    "Notes:\n",
    "* You can skip parts on pip & docker. \n",
    "* Install Anaconda (with Python 3) only.\n",
    "* Do not hesitate to follow links included in the guide."
   ]
  },
  {
   "cell_type": "markdown",
   "metadata": {},
   "source": [
    "### Other resources:\n",
    "\n",
    "* [Intro to Python for Data Science](https://www.datacamp.com/courses/intro-to-python-for-data-science) - I do not have personal experience with this course, but since it was referenced in the DataCamp guide, it should be OK (and free)\n",
    "* [Python Data Science Cookbook](https://www.packtpub.com/big-data-and-business-intelligence/python-data-science-cookbook) - book I can highly recommend\n",
    "* [Python for Data Science and Machine Learning Bootcamp](https://www.udemy.com/python-for-data-science-and-machine-learning-bootcamp/) - Udemy course, great course with videos and examples in Jupyter notebooks (often in sale for ca. $10, but not now, unfortunately)\n",
    "* Last, but not least, **Google**. Feel free to type name of module you are interested in and you will find lots of helpful resources. Official documentation sites (e.g. for [NumPy](https://docs.scipy.org/doc/numpy-1.12.0/reference/)) are great places to start as well."
   ]
  },
  {
   "cell_type": "markdown",
   "metadata": {},
   "source": [
    "### Good luck!!\n",
    "\n",
    "Little bit of motivation:\n",
    "\n",
    "<img src=\"img/matlab_vs_python.png\">\n",
    "\n",
    "Source: [Google Trends](https://trends.google.com/trends/explore?q=%2Fm%2F053_x,Python)"
   ]
  }
 ],
 "metadata": {
  "kernelspec": {
   "display_name": "Python 3",
   "language": "python",
   "name": "python3"
  },
  "language_info": {
   "codemirror_mode": {
    "name": "ipython",
    "version": 3
   },
   "file_extension": ".py",
   "mimetype": "text/x-python",
   "name": "python",
   "nbconvert_exporter": "python",
   "pygments_lexer": "ipython3",
   "version": "3.5.2"
  }
 },
 "nbformat": 4,
 "nbformat_minor": 0
}
