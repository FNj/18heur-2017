{
 "cells": [
  {
   "cell_type": "markdown",
   "metadata": {},
   "source": [
    "# Lecture outline\n",
    "\n",
    "1. Experimental framework implementation\n",
    "1. Performance evaluation\n",
    "1. Assignments"
   ]
  },
  {
   "cell_type": "markdown",
   "metadata": {},
   "source": [
    "# 1. Experimental framework implementation\n",
    "\n",
    "## Best practice to implement $n$ heuristics and $m$ objective functions?\n",
    "\n",
    "* There are some common characteristics for all objects in our framework\n",
    "  * Heuristics - store best found solution, manage stop criterion, etc.\n",
    "  * Objective functions - store $f^*$, lower/upper bounds, etc.\n",
    "* Every specific heuristic or obj. function implements its own search space exploration or evaluation, neighbourhood generation, etc.\n",
    "* Thus, object-oriented design should help us to separate this concerns as much as possible and also to keep us sane\n",
    "\n",
    "\n",
    "<img src=\"img/oop_design.png\">\n"
   ]
  },
  {
   "cell_type": "markdown",
   "metadata": {},
   "source": [
    "## Example: generalized Shoot&Go and two objective functions (AirShip and `sum(x)`)\n",
    "\n",
    "\n",
    "### Generalized Shoot&Go: $\\mathrm{SG}_{hmax}$\n",
    "\n",
    "* Shoot & Go heuristic (also known as *Iterated Local Search*, *Random-restart hill climbing*, etc)\n",
    "    * $hmax \\in \\{ 0, 1, \\ldots, \\infty \\}$ parameter - maximum number of local searches / hill climbs\n",
    "    * note that $\\mathrm{SG}_{0}$ is pure Random Shooting (Random Search)\n",
    "    \n",
    "* implemented as ``class ShootAndGo(Heuristic)`` in ``src/heur.py``    \n",
    "    \n",
    "### Objective functions\n",
    "\n",
    "#### AirShip\n",
    "\n",
    "* Same as on previous lecture, but wee need to **minimize** obj. function values\n",
    "* implemented as ``class AirShip(ObjFun)`` in ``src/objfun.py``\n",
    "\n",
    "#### `sum(x)`\n",
    "\n",
    "* Just as demonstration of vectorized lower/upper bounds\n",
    "* implemented as ``class Sum(ObjFun)`` in ``src/objfun.py``\n",
    "\n",
    "**Review the code, please!**"
   ]
  },
  {
   "cell_type": "markdown",
   "metadata": {},
   "source": [
    "# 2. Performance evaluation\n",
    "\n",
    "## What is the recommended approach to store and analyze results of your experiments?\n",
    "\n",
    "1. Append all relevant statistics from a single run into table (e.g. CSV file in memory or on disk), including all task and heuristic parameters \n",
    "2. Load the table into analytical tool of your choice (data frames, Excel or Google Docs spreadsheets, etc.)\n",
    "3. Pivot by relevant parameters, visualize in tables or charts"
   ]
  },
  {
   "cell_type": "markdown",
   "metadata": {},
   "source": [
    "## Demonstration\n",
    "\n",
    "Neccessary notebook setup first:"
   ]
  },
  {
   "cell_type": "code",
   "execution_count": 1,
   "metadata": {
    "collapsed": false
   },
   "outputs": [],
   "source": [
    "# Import path to source directory (bit of a hack in Jupyter)\n",
    "import sys\n",
    "import os\n",
    "pwd = %pwd\n",
    "sys.path.append(os.path.join(pwd,'../src'))\n",
    "\n",
    "# Ensure modules are reloaded on any change (very useful when developing code on the fly)\n",
    "get_ipython().magic('load_ext autoreload')\n",
    "get_ipython().magic('autoreload 2')"
   ]
  },
  {
   "cell_type": "code",
   "execution_count": 2,
   "metadata": {
    "collapsed": false
   },
   "outputs": [],
   "source": [
    "# Import extrenal librarires\n",
    "import numpy as np\n",
    "import pandas as pd\n",
    "from tqdm import tqdm_notebook\n",
    "\n",
    "# Import our code\n",
    "from heur import ShootAndGo"
   ]
  },
  {
   "cell_type": "markdown",
   "metadata": {},
   "source": [
    "### General experiment setup\n",
    "\n",
    "Runs selected objective function (`of`) using selected heuristic multiple times, stores and returns data (results) in a data frame."
   ]
  },
  {
   "cell_type": "code",
   "execution_count": 3,
   "metadata": {
    "collapsed": false
   },
   "outputs": [],
   "source": [
    "def experiment(of, num_runs, hmax):\n",
    "    results = []\n",
    "    for i in tqdm_notebook(range(num_runs), 'Testing hmax = {}'.format(hmax)):\n",
    "        result = ShootAndGo(of, maxeval=100, hmax=hmax).search() # dict with results of one run\n",
    "        result['run'] = i\n",
    "        result['heur'] = 'SG_{}'.format(hmax) # name of the heuristic\n",
    "        result['hmax'] = hmax\n",
    "        results.append(result)\n",
    "    return pd.DataFrame(results, columns=['heur', 'run', 'hmax', 'best_x', 'best_y', 'neval'])"
   ]
  },
  {
   "cell_type": "markdown",
   "metadata": {},
   "source": [
    "### Air Ship experiments"
   ]
  },
  {
   "cell_type": "code",
   "execution_count": 4,
   "metadata": {
    "collapsed": false
   },
   "outputs": [],
   "source": [
    "from objfun import AirShip\n",
    "of = AirShip()"
   ]
  },
  {
   "cell_type": "code",
   "execution_count": 5,
   "metadata": {
    "collapsed": false
   },
   "outputs": [
    {
     "name": "stdout",
     "output_type": "stream",
     "text": [
      "\n",
      "\n",
      "\n",
      "\n",
      "\n",
      "\n",
      "\n",
      "\n"
     ]
    }
   ],
   "source": [
    "table = pd.DataFrame()\n",
    "for hmax in [0, 1, 2, 5, 10, 20, 50, np.inf]:\n",
    "    res = experiment(of, 10000, hmax)\n",
    "    table = pd.concat([table, res], axis=0)"
   ]
  },
  {
   "cell_type": "markdown",
   "metadata": {},
   "source": [
    "**Note**: This is what you should see while experiments are in progress:\n",
    "\n",
    "<img src=\"img/tqdm_progress.png\">"
   ]
  },
  {
   "cell_type": "code",
   "execution_count": 6,
   "metadata": {
    "collapsed": false
   },
   "outputs": [
    {
     "name": "stdout",
     "output_type": "stream",
     "text": [
      "<class 'pandas.core.frame.DataFrame'>\n",
      "Int64Index: 80000 entries, 0 to 9999\n",
      "Data columns (total 6 columns):\n",
      "heur      80000 non-null object\n",
      "run       80000 non-null int64\n",
      "hmax      80000 non-null float64\n",
      "best_x    80000 non-null int64\n",
      "best_y    80000 non-null float64\n",
      "neval     80000 non-null float64\n",
      "dtypes: float64(3), int64(2), object(1)\n",
      "memory usage: 4.3+ MB\n"
     ]
    }
   ],
   "source": [
    "table.info()"
   ]
  },
  {
   "cell_type": "code",
   "execution_count": 7,
   "metadata": {
    "collapsed": false
   },
   "outputs": [
    {
     "data": {
      "text/html": [
       "<div>\n",
       "<table border=\"1\" class=\"dataframe\">\n",
       "  <thead>\n",
       "    <tr style=\"text-align: right;\">\n",
       "      <th></th>\n",
       "      <th>heur</th>\n",
       "      <th>run</th>\n",
       "      <th>hmax</th>\n",
       "      <th>best_x</th>\n",
       "      <th>best_y</th>\n",
       "      <th>neval</th>\n",
       "    </tr>\n",
       "  </thead>\n",
       "  <tbody>\n",
       "    <tr>\n",
       "      <th>0</th>\n",
       "      <td>SG_0</td>\n",
       "      <td>0</td>\n",
       "      <td>0.0</td>\n",
       "      <td>53</td>\n",
       "      <td>-94.0</td>\n",
       "      <td>inf</td>\n",
       "    </tr>\n",
       "    <tr>\n",
       "      <th>1</th>\n",
       "      <td>SG_0</td>\n",
       "      <td>1</td>\n",
       "      <td>0.0</td>\n",
       "      <td>51</td>\n",
       "      <td>-98.0</td>\n",
       "      <td>inf</td>\n",
       "    </tr>\n",
       "    <tr>\n",
       "      <th>2</th>\n",
       "      <td>SG_0</td>\n",
       "      <td>2</td>\n",
       "      <td>0.0</td>\n",
       "      <td>49</td>\n",
       "      <td>-98.0</td>\n",
       "      <td>inf</td>\n",
       "    </tr>\n",
       "    <tr>\n",
       "      <th>3</th>\n",
       "      <td>SG_0</td>\n",
       "      <td>3</td>\n",
       "      <td>0.0</td>\n",
       "      <td>54</td>\n",
       "      <td>-92.0</td>\n",
       "      <td>inf</td>\n",
       "    </tr>\n",
       "    <tr>\n",
       "      <th>4</th>\n",
       "      <td>SG_0</td>\n",
       "      <td>4</td>\n",
       "      <td>0.0</td>\n",
       "      <td>53</td>\n",
       "      <td>-94.0</td>\n",
       "      <td>inf</td>\n",
       "    </tr>\n",
       "  </tbody>\n",
       "</table>\n",
       "</div>"
      ],
      "text/plain": [
       "   heur  run  hmax  best_x  best_y  neval\n",
       "0  SG_0    0   0.0      53   -94.0    inf\n",
       "1  SG_0    1   0.0      51   -98.0    inf\n",
       "2  SG_0    2   0.0      49   -98.0    inf\n",
       "3  SG_0    3   0.0      54   -92.0    inf\n",
       "4  SG_0    4   0.0      53   -94.0    inf"
      ]
     },
     "execution_count": 7,
     "metadata": {},
     "output_type": "execute_result"
    }
   ],
   "source": [
    "table.head()"
   ]
  },
  {
   "cell_type": "code",
   "execution_count": 8,
   "metadata": {
    "collapsed": true
   },
   "outputs": [],
   "source": [
    "# import visualization libraries\n",
    "import matplotlib\n",
    "%matplotlib inline\n",
    "import matplotlib.pyplot as plt\n",
    "import seaborn as sns\n",
    "sns.set()"
   ]
  },
  {
   "cell_type": "markdown",
   "metadata": {},
   "source": [
    "#### Quality of solutions based on `hmax`?\n",
    "\n",
    "In **tabular** form:"
   ]
  },
  {
   "cell_type": "code",
   "execution_count": 9,
   "metadata": {
    "collapsed": false
   },
   "outputs": [
    {
     "data": {
      "text/plain": [
       "hmax\n",
       "0.000000    -94.000000\n",
       "1.000000    -86.000000\n",
       "2.000000    -78.000000\n",
       "5.000000    -62.000000\n",
       "10.000000   -50.000000\n",
       "20.000000   -40.404040\n",
       "50.000000   -24.333333\n",
       "inf         -24.750000\n",
       "Name: best_y, dtype: float64"
      ]
     },
     "execution_count": 9,
     "metadata": {},
     "output_type": "execute_result"
    }
   ],
   "source": [
    "table.groupby(['hmax'])['best_y'].median()"
   ]
  },
  {
   "cell_type": "code",
   "execution_count": 10,
   "metadata": {
    "collapsed": false
   },
   "outputs": [
    {
     "data": {
      "text/plain": [
       "hmax\n",
       "0.000000    -92.212095\n",
       "1.000000    -80.847628\n",
       "2.000000    -72.303847\n",
       "5.000000    -63.139595\n",
       "10.000000   -55.733562\n",
       "20.000000   -49.103425\n",
       "50.000000   -37.713413\n",
       "inf         -38.087144\n",
       "Name: best_y, dtype: float64"
      ]
     },
     "execution_count": 10,
     "metadata": {},
     "output_type": "execute_result"
    }
   ],
   "source": [
    "table.groupby(['hmax'])['best_y'].mean()"
   ]
  },
  {
   "cell_type": "markdown",
   "metadata": {},
   "source": [
    "Feel free to compute other statistics instead of median and mean.\n",
    "\n",
    "Directly as **Box-Whiskers plot**:"
   ]
  },
  {
   "cell_type": "code",
   "execution_count": 11,
   "metadata": {
    "collapsed": false
   },
   "outputs": [
    {
     "data": {
      "image/png": "[encoded data removed]",
      "text/plain": [
       "<matplotlib.figure.Figure at 0x22a3efbbe10>"
      ]
     },
     "metadata": {},
     "output_type": "display_data"
    }
   ],
   "source": [
    "ax = sns.boxplot(x=\"hmax\", y=\"best_y\", data=table)"
   ]
  },
  {
   "cell_type": "markdown",
   "metadata": {},
   "source": [
    "#### Number of evaluations (when successful), based on `hmax`?\n",
    "\n",
    "Let's add another column, `success`:"
   ]
  },
  {
   "cell_type": "code",
   "execution_count": 12,
   "metadata": {
    "collapsed": true
   },
   "outputs": [],
   "source": [
    "table['success'] = table['neval'] < np.inf"
   ]
  },
  {
   "cell_type": "code",
   "execution_count": 13,
   "metadata": {
    "collapsed": false
   },
   "outputs": [
    {
     "data": {
      "text/html": [
       "<div>\n",
       "<table border=\"1\" class=\"dataframe\">\n",
       "  <thead>\n",
       "    <tr style=\"text-align: right;\">\n",
       "      <th></th>\n",
       "      <th>heur</th>\n",
       "      <th>run</th>\n",
       "      <th>hmax</th>\n",
       "      <th>best_x</th>\n",
       "      <th>best_y</th>\n",
       "      <th>neval</th>\n",
       "      <th>success</th>\n",
       "    </tr>\n",
       "  </thead>\n",
       "  <tbody>\n",
       "    <tr>\n",
       "      <th>11</th>\n",
       "      <td>SG_0</td>\n",
       "      <td>11</td>\n",
       "      <td>0.0</td>\n",
       "      <td>50</td>\n",
       "      <td>-100.0</td>\n",
       "      <td>20.0</td>\n",
       "      <td>True</td>\n",
       "    </tr>\n",
       "    <tr>\n",
       "      <th>16</th>\n",
       "      <td>SG_0</td>\n",
       "      <td>16</td>\n",
       "      <td>0.0</td>\n",
       "      <td>50</td>\n",
       "      <td>-100.0</td>\n",
       "      <td>87.0</td>\n",
       "      <td>True</td>\n",
       "    </tr>\n",
       "    <tr>\n",
       "      <th>20</th>\n",
       "      <td>SG_0</td>\n",
       "      <td>20</td>\n",
       "      <td>0.0</td>\n",
       "      <td>50</td>\n",
       "      <td>-100.0</td>\n",
       "      <td>71.0</td>\n",
       "      <td>True</td>\n",
       "    </tr>\n",
       "    <tr>\n",
       "      <th>21</th>\n",
       "      <td>SG_0</td>\n",
       "      <td>21</td>\n",
       "      <td>0.0</td>\n",
       "      <td>50</td>\n",
       "      <td>-100.0</td>\n",
       "      <td>83.0</td>\n",
       "      <td>True</td>\n",
       "    </tr>\n",
       "    <tr>\n",
       "      <th>32</th>\n",
       "      <td>SG_0</td>\n",
       "      <td>32</td>\n",
       "      <td>0.0</td>\n",
       "      <td>50</td>\n",
       "      <td>-100.0</td>\n",
       "      <td>27.0</td>\n",
       "      <td>True</td>\n",
       "    </tr>\n",
       "  </tbody>\n",
       "</table>\n",
       "</div>"
      ],
      "text/plain": [
       "    heur  run  hmax  best_x  best_y  neval success\n",
       "11  SG_0   11   0.0      50  -100.0   20.0    True\n",
       "16  SG_0   16   0.0      50  -100.0   87.0    True\n",
       "20  SG_0   20   0.0      50  -100.0   71.0    True\n",
       "21  SG_0   21   0.0      50  -100.0   83.0    True\n",
       "32  SG_0   32   0.0      50  -100.0   27.0    True"
      ]
     },
     "execution_count": 13,
     "metadata": {},
     "output_type": "execute_result"
    }
   ],
   "source": [
    "table[table['success'] == True].head()"
   ]
  },
  {
   "cell_type": "code",
   "execution_count": 14,
   "metadata": {
    "collapsed": false
   },
   "outputs": [
    {
     "data": {
      "text/html": [
       "<div>\n",
       "<table border=\"1\" class=\"dataframe\">\n",
       "  <thead>\n",
       "    <tr style=\"text-align: right;\">\n",
       "      <th></th>\n",
       "      <th>heur</th>\n",
       "      <th>run</th>\n",
       "      <th>hmax</th>\n",
       "      <th>best_x</th>\n",
       "      <th>best_y</th>\n",
       "      <th>neval</th>\n",
       "      <th>success</th>\n",
       "    </tr>\n",
       "  </thead>\n",
       "  <tbody>\n",
       "    <tr>\n",
       "      <th>0</th>\n",
       "      <td>SG_0</td>\n",
       "      <td>0</td>\n",
       "      <td>0.0</td>\n",
       "      <td>53</td>\n",
       "      <td>-94.0</td>\n",
       "      <td>inf</td>\n",
       "      <td>False</td>\n",
       "    </tr>\n",
       "    <tr>\n",
       "      <th>1</th>\n",
       "      <td>SG_0</td>\n",
       "      <td>1</td>\n",
       "      <td>0.0</td>\n",
       "      <td>51</td>\n",
       "      <td>-98.0</td>\n",
       "      <td>inf</td>\n",
       "      <td>False</td>\n",
       "    </tr>\n",
       "    <tr>\n",
       "      <th>2</th>\n",
       "      <td>SG_0</td>\n",
       "      <td>2</td>\n",
       "      <td>0.0</td>\n",
       "      <td>49</td>\n",
       "      <td>-98.0</td>\n",
       "      <td>inf</td>\n",
       "      <td>False</td>\n",
       "    </tr>\n",
       "    <tr>\n",
       "      <th>3</th>\n",
       "      <td>SG_0</td>\n",
       "      <td>3</td>\n",
       "      <td>0.0</td>\n",
       "      <td>54</td>\n",
       "      <td>-92.0</td>\n",
       "      <td>inf</td>\n",
       "      <td>False</td>\n",
       "    </tr>\n",
       "    <tr>\n",
       "      <th>4</th>\n",
       "      <td>SG_0</td>\n",
       "      <td>4</td>\n",
       "      <td>0.0</td>\n",
       "      <td>53</td>\n",
       "      <td>-94.0</td>\n",
       "      <td>inf</td>\n",
       "      <td>False</td>\n",
       "    </tr>\n",
       "  </tbody>\n",
       "</table>\n",
       "</div>"
      ],
      "text/plain": [
       "   heur  run  hmax  best_x  best_y  neval success\n",
       "0  SG_0    0   0.0      53   -94.0    inf   False\n",
       "1  SG_0    1   0.0      51   -98.0    inf   False\n",
       "2  SG_0    2   0.0      49   -98.0    inf   False\n",
       "3  SG_0    3   0.0      54   -92.0    inf   False\n",
       "4  SG_0    4   0.0      53   -94.0    inf   False"
      ]
     },
     "execution_count": 14,
     "metadata": {},
     "output_type": "execute_result"
    }
   ],
   "source": [
    "table[table['success'] == False].head()"
   ]
  },
  {
   "cell_type": "markdown",
   "metadata": {},
   "source": [
    "Table:"
   ]
  },
  {
   "cell_type": "code",
   "execution_count": 15,
   "metadata": {
    "collapsed": false
   },
   "outputs": [
    {
     "data": {
      "text/plain": [
       "hmax\n",
       "0.000000     51.828523\n",
       "1.000000     48.143770\n",
       "2.000000     50.744626\n",
       "5.000000     49.176170\n",
       "10.000000    50.014553\n",
       "20.000000    48.537351\n",
       "50.000000    53.356667\n",
       "inf          53.176600\n",
       "Name: neval, dtype: float64"
      ]
     },
     "execution_count": 15,
     "metadata": {},
     "output_type": "execute_result"
    }
   ],
   "source": [
    "table[table['success'] == True].groupby(['hmax'])['neval'].mean()"
   ]
  },
  {
   "cell_type": "code",
   "execution_count": 16,
   "metadata": {
    "collapsed": false
   },
   "outputs": [
    {
     "data": {
      "text/plain": [
       "hmax\n",
       "0.000000     53.0\n",
       "1.000000     47.0\n",
       "2.000000     50.0\n",
       "5.000000     48.0\n",
       "10.000000    50.0\n",
       "20.000000    48.0\n",
       "50.000000    54.0\n",
       "inf          54.0\n",
       "Name: neval, dtype: float64"
      ]
     },
     "execution_count": 16,
     "metadata": {},
     "output_type": "execute_result"
    }
   ],
   "source": [
    "table[table['success'] == True].groupby(['hmax'])['neval'].median()"
   ]
  },
  {
   "cell_type": "markdown",
   "metadata": {},
   "source": [
    "Chart:"
   ]
  },
  {
   "cell_type": "code",
   "execution_count": 17,
   "metadata": {
    "collapsed": false
   },
   "outputs": [
    {
     "data": {
      "image/png": "[encoded data removed]",
      "text/plain": [
       "<matplotlib.figure.Figure at 0x22a3fcb48d0>"
      ]
     },
     "metadata": {},
     "output_type": "display_data"
    }
   ],
   "source": [
    "ax = sns.boxplot(x=\"hmax\", y=\"neval\", data=table[table['success'] == True])"
   ]
  },
  {
   "cell_type": "markdown",
   "metadata": {},
   "source": [
    "#### Reliability"
   ]
  },
  {
   "cell_type": "code",
   "execution_count": 18,
   "metadata": {
    "collapsed": false
   },
   "outputs": [],
   "source": [
    "rel_by_hmax = table.pivot_table(\n",
    "    index=['hmax'],\n",
    "    values=['neval'],\n",
    "    aggfunc=lambda x: len([n for n in x if n < np.inf])/len(x)\n",
    ")"
   ]
  },
  {
   "cell_type": "code",
   "execution_count": 19,
   "metadata": {
    "collapsed": false
   },
   "outputs": [
    {
     "data": {
      "text/html": [
       "<div>\n",
       "<table border=\"1\" class=\"dataframe\">\n",
       "  <thead>\n",
       "    <tr style=\"text-align: right;\">\n",
       "      <th></th>\n",
       "      <th>neval</th>\n",
       "    </tr>\n",
       "    <tr>\n",
       "      <th>hmax</th>\n",
       "      <th></th>\n",
       "    </tr>\n",
       "  </thead>\n",
       "  <tbody>\n",
       "    <tr>\n",
       "      <th>0.000000</th>\n",
       "      <td>0.1178</td>\n",
       "    </tr>\n",
       "    <tr>\n",
       "      <th>1.000000</th>\n",
       "      <td>0.1252</td>\n",
       "    </tr>\n",
       "    <tr>\n",
       "      <th>2.000000</th>\n",
       "      <td>0.1163</td>\n",
       "    </tr>\n",
       "    <tr>\n",
       "      <th>5.000000</th>\n",
       "      <td>0.1368</td>\n",
       "    </tr>\n",
       "    <tr>\n",
       "      <th>10.000000</th>\n",
       "      <td>0.1443</td>\n",
       "    </tr>\n",
       "    <tr>\n",
       "      <th>20.000000</th>\n",
       "      <td>0.1593</td>\n",
       "    </tr>\n",
       "    <tr>\n",
       "      <th>50.000000</th>\n",
       "      <td>0.1800</td>\n",
       "    </tr>\n",
       "    <tr>\n",
       "      <th>inf</th>\n",
       "      <td>0.1812</td>\n",
       "    </tr>\n",
       "  </tbody>\n",
       "</table>\n",
       "</div>"
      ],
      "text/plain": [
       "            neval\n",
       "hmax             \n",
       "0.000000   0.1178\n",
       "1.000000   0.1252\n",
       "2.000000   0.1163\n",
       "5.000000   0.1368\n",
       "10.000000  0.1443\n",
       "20.000000  0.1593\n",
       "50.000000  0.1800\n",
       "inf        0.1812"
      ]
     },
     "execution_count": 19,
     "metadata": {},
     "output_type": "execute_result"
    }
   ],
   "source": [
    "rel_by_hmax"
   ]
  },
  {
   "cell_type": "code",
   "execution_count": 20,
   "metadata": {
    "collapsed": false
   },
   "outputs": [
    {
     "data": {
      "image/png": "[encoded data removed]",
      "text/plain": [
       "<matplotlib.figure.Figure at 0x22a3fcaa320>"
      ]
     },
     "metadata": {},
     "output_type": "display_data"
    }
   ],
   "source": [
    "ax = rel_by_hmax.plot(kind='bar')"
   ]
  },
  {
   "cell_type": "markdown",
   "metadata": {},
   "source": [
    "#### Speed, normalized by reliability?\n",
    "\n",
    "* Reliability: $REL = m/q$ where $m$ is number of successful runs and $q$ is total number of runs, $REL \\in [0, 1]$\n",
    "* Mean Number of objective function Evaluations: $MNE = \\frac{1}{m} \\sum_{i=1}^m neval_i$\n",
    "* Feoktistov criterion: $FEO = MNE/REL$"
   ]
  },
  {
   "cell_type": "code",
   "execution_count": 21,
   "metadata": {
    "collapsed": true
   },
   "outputs": [],
   "source": [
    "feo_by_hmax = table.pivot_table(\n",
    "    index=['hmax'],\n",
    "    values=['neval'],\n",
    "    aggfunc=lambda x: np.mean([n for n in x if n < np.inf])/(len([n for n in x if n < np.inf])/len(x))\n",
    "    #                 ^^^   mean number of evaluations ^^^ / ^^^             reliability         ^^^^\n",
    ")"
   ]
  },
  {
   "cell_type": "code",
   "execution_count": 22,
   "metadata": {
    "collapsed": false
   },
   "outputs": [
    {
     "data": {
      "text/html": [
       "<div>\n",
       "<table border=\"1\" class=\"dataframe\">\n",
       "  <thead>\n",
       "    <tr style=\"text-align: right;\">\n",
       "      <th></th>\n",
       "      <th>neval</th>\n",
       "    </tr>\n",
       "    <tr>\n",
       "      <th>hmax</th>\n",
       "      <th></th>\n",
       "    </tr>\n",
       "  </thead>\n",
       "  <tbody>\n",
       "    <tr>\n",
       "      <th>0.000000</th>\n",
       "      <td>439.970483</td>\n",
       "    </tr>\n",
       "    <tr>\n",
       "      <th>1.000000</th>\n",
       "      <td>384.534904</td>\n",
       "    </tr>\n",
       "    <tr>\n",
       "      <th>2.000000</th>\n",
       "      <td>436.325245</td>\n",
       "    </tr>\n",
       "    <tr>\n",
       "      <th>5.000000</th>\n",
       "      <td>359.474924</td>\n",
       "    </tr>\n",
       "    <tr>\n",
       "      <th>10.000000</th>\n",
       "      <td>346.601199</td>\n",
       "    </tr>\n",
       "    <tr>\n",
       "      <th>20.000000</th>\n",
       "      <td>304.691468</td>\n",
       "    </tr>\n",
       "    <tr>\n",
       "      <th>50.000000</th>\n",
       "      <td>296.425926</td>\n",
       "    </tr>\n",
       "    <tr>\n",
       "      <th>inf</th>\n",
       "      <td>293.469097</td>\n",
       "    </tr>\n",
       "  </tbody>\n",
       "</table>\n",
       "</div>"
      ],
      "text/plain": [
       "                neval\n",
       "hmax                 \n",
       "0.000000   439.970483\n",
       "1.000000   384.534904\n",
       "2.000000   436.325245\n",
       "5.000000   359.474924\n",
       "10.000000  346.601199\n",
       "20.000000  304.691468\n",
       "50.000000  296.425926\n",
       "inf        293.469097"
      ]
     },
     "execution_count": 22,
     "metadata": {},
     "output_type": "execute_result"
    }
   ],
   "source": [
    "feo_by_hmax"
   ]
  },
  {
   "cell_type": "code",
   "execution_count": 23,
   "metadata": {
    "collapsed": false
   },
   "outputs": [
    {
     "data": {
      "image/png": "[encoded data removed]",
      "text/plain": [
       "<matplotlib.figure.Figure at 0x22a400d2320>"
      ]
     },
     "metadata": {},
     "output_type": "display_data"
    }
   ],
   "source": [
    "ax = feo_by_hmax.plot(kind='bar')"
   ]
  },
  {
   "cell_type": "markdown",
   "metadata": {},
   "source": [
    "### `sum(x)` experiments\n",
    "\n",
    "Let's review this function a little bit:"
   ]
  },
  {
   "cell_type": "code",
   "execution_count": 24,
   "metadata": {
    "collapsed": false
   },
   "outputs": [],
   "source": [
    "from objfun import Sum\n",
    "of = Sum([0, 0, 0, 0], [10, 10, 10, 10])"
   ]
  },
  {
   "cell_type": "code",
   "execution_count": 25,
   "metadata": {
    "collapsed": false
   },
   "outputs": [
    {
     "name": "stdout",
     "output_type": "stream",
     "text": [
      "[5, 2, 1, 4]\n",
      "12\n"
     ]
    }
   ],
   "source": [
    "x = of.generate_point()\n",
    "print(x)\n",
    "print(of.evaluate(x))"
   ]
  },
  {
   "cell_type": "code",
   "execution_count": 26,
   "metadata": {
    "collapsed": false
   },
   "outputs": [
    {
     "name": "stdout",
     "output_type": "stream",
     "text": [
      "[[4, 2, 1, 4], [6, 2, 1, 4], [5, 1, 1, 4], [5, 3, 1, 4], [5, 2, 0, 4], [5, 2, 2, 4], [5, 2, 1, 3], [5, 2, 1, 5]]\n"
     ]
    }
   ],
   "source": [
    "print(of.get_neighborhood(x, 1))"
   ]
  },
  {
   "cell_type": "code",
   "execution_count": 27,
   "metadata": {
    "collapsed": false
   },
   "outputs": [
    {
     "ename": "AssertionError",
     "evalue": "Sum(x) supports neighbourhood with distance = 1 only",
     "output_type": "error",
     "traceback": [
      "\u001b[1;31m---------------------------------------------------------------------------\u001b[0m",
      "\u001b[1;31mAssertionError\u001b[0m                            Traceback (most recent call last)",
      "\u001b[1;32m<ipython-input-27-fed7b649fae6>\u001b[0m in \u001b[0;36m<module>\u001b[1;34m()\u001b[0m\n\u001b[1;32m----> 1\u001b[1;33m \u001b[0mprint\u001b[0m\u001b[1;33m(\u001b[0m\u001b[0mof\u001b[0m\u001b[1;33m.\u001b[0m\u001b[0mget_neighborhood\u001b[0m\u001b[1;33m(\u001b[0m\u001b[0mx\u001b[0m\u001b[1;33m,\u001b[0m \u001b[1;36m2\u001b[0m\u001b[1;33m)\u001b[0m\u001b[1;33m)\u001b[0m\u001b[1;33m\u001b[0m\u001b[0m\n\u001b[0m",
      "\u001b[1;32mC:\\Users\\matej\\Repos\\School\\18heur-2017\\notebooks\\../src\\objfun.py\u001b[0m in \u001b[0;36mget_neighborhood\u001b[1;34m(self, x, d)\u001b[0m\n\u001b[0;32m     73\u001b[0m \u001b[1;33m\u001b[0m\u001b[0m\n\u001b[0;32m     74\u001b[0m     \u001b[1;32mdef\u001b[0m \u001b[0mget_neighborhood\u001b[0m\u001b[1;33m(\u001b[0m\u001b[0mself\u001b[0m\u001b[1;33m,\u001b[0m \u001b[0mx\u001b[0m\u001b[1;33m,\u001b[0m \u001b[0md\u001b[0m\u001b[1;33m)\u001b[0m\u001b[1;33m:\u001b[0m\u001b[1;33m\u001b[0m\u001b[0m\n\u001b[1;32m---> 75\u001b[1;33m         \u001b[1;32massert\u001b[0m \u001b[0md\u001b[0m \u001b[1;33m==\u001b[0m \u001b[1;36m1\u001b[0m\u001b[1;33m,\u001b[0m \u001b[1;34m\"Sum(x) supports neighbourhood with distance = 1 only\"\u001b[0m\u001b[1;33m\u001b[0m\u001b[0m\n\u001b[0m\u001b[0;32m     76\u001b[0m         \u001b[0mnd\u001b[0m \u001b[1;33m=\u001b[0m \u001b[1;33m[\u001b[0m\u001b[1;33m]\u001b[0m\u001b[1;33m\u001b[0m\u001b[0m\n\u001b[0;32m     77\u001b[0m         \u001b[1;32mfor\u001b[0m \u001b[0mi\u001b[0m \u001b[1;32min\u001b[0m \u001b[0mnp\u001b[0m\u001b[1;33m.\u001b[0m\u001b[0marange\u001b[0m\u001b[1;33m(\u001b[0m\u001b[0mself\u001b[0m\u001b[1;33m.\u001b[0m\u001b[0mn\u001b[0m\u001b[1;33m)\u001b[0m\u001b[1;33m:\u001b[0m\u001b[1;33m\u001b[0m\u001b[0m\n",
      "\u001b[1;31mAssertionError\u001b[0m: Sum(x) supports neighbourhood with distance = 1 only"
     ]
    }
   ],
   "source": [
    "print(of.get_neighborhood(x, 2))"
   ]
  },
  {
   "cell_type": "markdown",
   "metadata": {},
   "source": [
    "^^ This behaviour is intended. See code for details."
   ]
  },
  {
   "cell_type": "code",
   "execution_count": 28,
   "metadata": {
    "collapsed": false
   },
   "outputs": [
    {
     "data": {
      "text/plain": [
       "[[1, 0, 0, 0], [0, 1, 0, 0], [0, 0, 1, 0], [0, 0, 0, 1]]"
      ]
     },
     "execution_count": 28,
     "metadata": {},
     "output_type": "execute_result"
    }
   ],
   "source": [
    "of.get_neighborhood([0, 0, 0, 0], 1)"
   ]
  },
  {
   "cell_type": "code",
   "execution_count": 29,
   "metadata": {
    "collapsed": false
   },
   "outputs": [
    {
     "data": {
      "text/plain": [
       "[[9, 10, 10, 10], [10, 9, 10, 10], [10, 10, 9, 10], [10, 10, 10, 9]]"
      ]
     },
     "execution_count": 29,
     "metadata": {},
     "output_type": "execute_result"
    }
   ],
   "source": [
    "of.get_neighborhood([10, 10, 10, 10], 1)"
   ]
  },
  {
   "cell_type": "markdown",
   "metadata": {},
   "source": [
    "And now, perform traditional experiments:"
   ]
  },
  {
   "cell_type": "code",
   "execution_count": 30,
   "metadata": {
    "collapsed": false
   },
   "outputs": [
    {
     "name": "stdout",
     "output_type": "stream",
     "text": [
      "\n",
      "\n",
      "\n",
      "\n",
      "\n",
      "\n",
      "\n",
      "\n"
     ]
    }
   ],
   "source": [
    "table = pd.DataFrame()\n",
    "for hmax in [0, 1, 2, 5, 10, 20, 50, np.inf]:\n",
    "    res = experiment(of, 10000, hmax)\n",
    "    table = pd.concat([table, res], axis=0)"
   ]
  },
  {
   "cell_type": "markdown",
   "metadata": {},
   "source": [
    "#### Quality of solutions based on hmax?"
   ]
  },
  {
   "cell_type": "code",
   "execution_count": 31,
   "metadata": {
    "collapsed": false
   },
   "outputs": [
    {
     "data": {
      "image/png": "[encoded data removed]",
      "text/plain": [
       "<matplotlib.figure.Figure at 0x22a40007860>"
      ]
     },
     "metadata": {},
     "output_type": "display_data"
    }
   ],
   "source": [
    "ax = sns.boxplot(x=\"hmax\", y=\"best_y\", data=table)"
   ]
  },
  {
   "cell_type": "markdown",
   "metadata": {},
   "source": [
    "#### Number of evaluations (when successful), based on hmax?"
   ]
  },
  {
   "cell_type": "code",
   "execution_count": 32,
   "metadata": {
    "collapsed": true
   },
   "outputs": [],
   "source": [
    "table['success'] = table['neval'] < np.inf"
   ]
  },
  {
   "cell_type": "code",
   "execution_count": 33,
   "metadata": {
    "collapsed": false
   },
   "outputs": [
    {
     "data": {
      "image/png": "[encoded data removed]",
      "text/plain": [
       "<matplotlib.figure.Figure at 0x22a418512b0>"
      ]
     },
     "metadata": {},
     "output_type": "display_data"
    }
   ],
   "source": [
    "ax = sns.boxplot(x=\"hmax\", y=\"neval\", data=table[table['success'] == True])"
   ]
  },
  {
   "cell_type": "markdown",
   "metadata": {},
   "source": [
    "#### Reliability?"
   ]
  },
  {
   "cell_type": "code",
   "execution_count": 34,
   "metadata": {
    "collapsed": true
   },
   "outputs": [],
   "source": [
    "rel_by_hmax = table.pivot_table(\n",
    "    index=['hmax'],\n",
    "    values=['neval'],\n",
    "    aggfunc=lambda x: len([n for n in x if n < np.inf])/len(x)\n",
    ")"
   ]
  },
  {
   "cell_type": "code",
   "execution_count": 35,
   "metadata": {
    "collapsed": false
   },
   "outputs": [
    {
     "data": {
      "text/html": [
       "<div>\n",
       "<table border=\"1\" class=\"dataframe\">\n",
       "  <thead>\n",
       "    <tr style=\"text-align: right;\">\n",
       "      <th></th>\n",
       "      <th>neval</th>\n",
       "    </tr>\n",
       "    <tr>\n",
       "      <th>hmax</th>\n",
       "      <th></th>\n",
       "    </tr>\n",
       "  </thead>\n",
       "  <tbody>\n",
       "    <tr>\n",
       "      <th>0.000000</th>\n",
       "      <td>0.0075</td>\n",
       "    </tr>\n",
       "    <tr>\n",
       "      <th>1.000000</th>\n",
       "      <td>0.0039</td>\n",
       "    </tr>\n",
       "    <tr>\n",
       "      <th>2.000000</th>\n",
       "      <td>0.0064</td>\n",
       "    </tr>\n",
       "    <tr>\n",
       "      <th>5.000000</th>\n",
       "      <td>0.0222</td>\n",
       "    </tr>\n",
       "    <tr>\n",
       "      <th>10.000000</th>\n",
       "      <td>0.0728</td>\n",
       "    </tr>\n",
       "    <tr>\n",
       "      <th>20.000000</th>\n",
       "      <td>0.2878</td>\n",
       "    </tr>\n",
       "    <tr>\n",
       "      <th>50.000000</th>\n",
       "      <td>0.2870</td>\n",
       "    </tr>\n",
       "    <tr>\n",
       "      <th>inf</th>\n",
       "      <td>0.2883</td>\n",
       "    </tr>\n",
       "  </tbody>\n",
       "</table>\n",
       "</div>"
      ],
      "text/plain": [
       "            neval\n",
       "hmax             \n",
       "0.000000   0.0075\n",
       "1.000000   0.0039\n",
       "2.000000   0.0064\n",
       "5.000000   0.0222\n",
       "10.000000  0.0728\n",
       "20.000000  0.2878\n",
       "50.000000  0.2870\n",
       "inf        0.2883"
      ]
     },
     "execution_count": 35,
     "metadata": {},
     "output_type": "execute_result"
    }
   ],
   "source": [
    "rel_by_hmax"
   ]
  },
  {
   "cell_type": "code",
   "execution_count": 36,
   "metadata": {
    "collapsed": false
   },
   "outputs": [
    {
     "data": {
      "image/png": "[encoded data removed]",
      "text/plain": [
       "<matplotlib.figure.Figure at 0x22a41851c88>"
      ]
     },
     "metadata": {},
     "output_type": "display_data"
    }
   ],
   "source": [
    "ax = rel_by_hmax.plot(kind='bar')"
   ]
  },
  {
   "cell_type": "markdown",
   "metadata": {},
   "source": [
    "#### Feoktistov criterion?"
   ]
  },
  {
   "cell_type": "code",
   "execution_count": 37,
   "metadata": {
    "collapsed": false
   },
   "outputs": [],
   "source": [
    "feo_by_hmax = table.pivot_table(\n",
    "    index=['hmax'],\n",
    "    values=['neval'],\n",
    "    aggfunc=lambda x: np.mean([n for n in x if n < np.inf])/(len([n for n in x if n < np.inf])/len(x))\n",
    ")"
   ]
  },
  {
   "cell_type": "code",
   "execution_count": 38,
   "metadata": {
    "collapsed": false
   },
   "outputs": [
    {
     "data": {
      "image/png": "[encoded data removed]",
      "text/plain": [
       "<matplotlib.figure.Figure at 0x22a41d5f908>"
      ]
     },
     "metadata": {},
     "output_type": "display_data"
    }
   ],
   "source": [
    "ax = feo_by_hmax.plot(kind='bar')"
   ]
  },
  {
   "cell_type": "markdown",
   "metadata": {},
   "source": [
    "# Assignments\n",
    "\n",
    "1. Implement examples in this notebook on your own\n",
    "1. Experiment with **neighbourhood diameter** `d` in `AirShip.get_neighborhood(x, d)`\n",
    "1. Add new heuristics into existing framework and analyze their performance:\n",
    "   1. **Random Descent**, similar to Shoot & Go, but does not follow steepest descent, chooses direction of the descent randomly instead\n",
    "   1. **Taboo Search**"
   ]
  }
 ],
 "metadata": {
  "kernelspec": {
   "display_name": "Python 3",
   "language": "python",
   "name": "python3"
  },
  "language_info": {
   "codemirror_mode": {
    "name": "ipython",
    "version": 3
   },
   "file_extension": ".py",
   "mimetype": "text/x-python",
   "name": "python",
   "nbconvert_exporter": "python",
   "pygments_lexer": "ipython3",
   "version": "3.5.2"
  }
 },
 "nbformat": 4,
 "nbformat_minor": 0
}
