{
 "cells": [
  {
   "cell_type": "code",
   "execution_count": 1,
   "metadata": {
    "collapsed": true
   },
   "outputs": [],
   "source": [
    "# Import path to source directory (bit of a hack in Jupyter)\n",
    "import sys\n",
    "import os\n",
    "pwd = %pwd\n",
    "sys.path.append(os.path.join(pwd,'../src'))\n",
    "\n",
    "# Ensure modules are reloaded on any change (very useful when developing code on the fly)\n",
    "get_ipython().magic('load_ext autoreload')\n",
    "get_ipython().magic('autoreload 2')"
   ]
  },
  {
   "cell_type": "code",
   "execution_count": 124,
   "metadata": {
    "collapsed": true
   },
   "outputs": [],
   "source": [
    "# Import extrenal librarires\n",
    "import numpy as np\n",
    "import pandas as pd\n",
    "from tqdm import tqdm_notebook\n",
    "\n",
    "# Import our code\n",
    "from heur import ShootAndGo, SimulatedAnnealing\n",
    "from objfun import TSPGrid  # <-- our implementation of TSP"
   ]
  },
  {
   "cell_type": "code",
   "execution_count": 125,
   "metadata": {
    "collapsed": false
   },
   "outputs": [],
   "source": [
    "tsp = TSPGrid(3,3)"
   ]
  },
  {
   "cell_type": "code",
   "execution_count": 126,
   "metadata": {
    "collapsed": false
   },
   "outputs": [
    {
     "name": "stdout",
     "output_type": "stream",
     "text": [
      "{'best_y': 9.4142135623730958, 'best_x': [3, 0, 0, 1, 3, 2, 1, 0], 'neval': 649}\n"
     ]
    },
    {
     "data": {
      "text/plain": [
       "array([0, 4, 1, 2, 5, 8, 7, 6, 3])"
      ]
     },
     "execution_count": 126,
     "metadata": {},
     "output_type": "execute_result"
    }
   ],
   "source": [
    "heur = SimulatedAnnealing(tsp, maxeval=1000,\n",
    "                          max_temperature=1e2, cooling_rate=3e-3,\n",
    "                          min_temperature=1e-1, restart_period=255)\n",
    "res = heur.search()\n",
    "print(res)\n",
    "tsp.decode(res['best_x'])"
   ]
  },
  {
   "cell_type": "code",
   "execution_count": 127,
   "metadata": {
    "collapsed": false
   },
   "outputs": [
    {
     "data": {
      "text/plain": [
       "1.1376272858234309"
      ]
     },
     "execution_count": 127,
     "metadata": {},
     "output_type": "execute_result"
    }
   ],
   "source": [
    "heur.temperature"
   ]
  },
  {
   "cell_type": "code",
   "execution_count": 128,
   "metadata": {
    "collapsed": true
   },
   "outputs": [],
   "source": [
    "def experiment_SG(of, num_runs, maxeval=1000, hmax=0):\n",
    "    results = []\n",
    "    for i in tqdm_notebook(range(num_runs), 'Testing hmax = {}'.format(hmax)):\n",
    "        result = ShootAndGo(of, maxeval=maxeval, hmax=hmax).search() # dict with results of one run\n",
    "        result['run'] = i\n",
    "        result['heur'] = 'SG_{}'.format(hmax) # name of the heuristic\n",
    "        results.append(result)\n",
    "    return pd.DataFrame(results, columns=['heur', 'run', 'best_x', 'best_y', 'neval'])"
   ]
  },
  {
   "cell_type": "code",
   "execution_count": 129,
   "metadata": {
    "collapsed": true
   },
   "outputs": [],
   "source": [
    "def experiment_SA(of, num_runs, maxeval=1000,\n",
    "                          max_temperature=1e2, cooling_rate=3e-3,\n",
    "                          min_temperature=1e-1, restart_period=255):\n",
    "    results = []\n",
    "    for i in tqdm_notebook(range(num_runs), 'Computing SA_{},{},{},{}'.format(\n",
    "                                                max_temperature, cooling_rate,\n",
    "                                                min_temperature, restart_period)):\n",
    "        result = SimulatedAnnealing(of, maxeval=maxeval,\n",
    "                          max_temperature=max_temperature, cooling_rate=cooling_rate,\n",
    "                          min_temperature=min_temperature,\n",
    "                          restart_period=restart_period).search() # dict with results of one run\n",
    "        result['run'] = i\n",
    "        result['heur'] = 'SA_{},{},{},{}'.format(max_temperature, cooling_rate,\n",
    "                                                min_temperature, restart_period) # name of the heuristic\n",
    "        results.append(result)\n",
    "    return pd.DataFrame(results, columns=['heur', 'run', 'best_x', 'best_y', 'neval'])"
   ]
  },
  {
   "cell_type": "code",
   "execution_count": null,
   "metadata": {
    "collapsed": true
   },
   "outputs": [],
   "source": [
    "table = pd.DataFrame()"
   ]
  },
  {
   "cell_type": "code",
   "execution_count": 182,
   "metadata": {
    "collapsed": false
   },
   "outputs": [
    {
     "name": "stdout",
     "output_type": "stream",
     "text": [
      "\n",
      "\n",
      "\n",
      "\n",
      "\n"
     ]
    }
   ],
   "source": [
    "for hmax in [0, 5, 20, np.inf]:\n",
    "    res = experiment_SG(tsp, 1000, hmax=hmax)\n",
    "    table = pd.concat([table, res], axis=0)"
   ]
  },
  {
   "cell_type": "code",
   "execution_count": 138,
   "metadata": {
    "collapsed": false
   },
   "outputs": [
    {
     "name": "stdout",
     "output_type": "stream",
     "text": [
      "\n",
      "\n",
      "\n",
      "\n",
      "\n",
      "\n",
      "\n",
      "\n"
     ]
    }
   ],
   "source": [
    "for restart_period in [np.inf, 900, 800, 700, 500, 400, 300]:\n",
    "    res = experiment_SA(tsp, 1000, restart_period=restart_period)\n",
    "    table = pd.concat([table, res], axis=0)"
   ]
  },
  {
   "cell_type": "code",
   "execution_count": 151,
   "metadata": {
    "collapsed": false
   },
   "outputs": [
    {
     "name": "stdout",
     "output_type": "stream",
     "text": [
      "\n",
      "\n",
      "\n"
     ]
    }
   ],
   "source": [
    "for restart_period in [200, 100, 50]:\n",
    "    res = experiment_SA(tsp, 1000, restart_period=restart_period)\n",
    "    table = pd.concat([table, res], axis=0)"
   ]
  },
  {
   "cell_type": "code",
   "execution_count": 168,
   "metadata": {
    "collapsed": false
   },
   "outputs": [
    {
     "name": "stdout",
     "output_type": "stream",
     "text": [
      "\n",
      "\n",
      "\n"
     ]
    }
   ],
   "source": [
    "for restart_period in [40, 20, 10]:\n",
    "    res = experiment_SA(tsp, 1000, restart_period=restart_period)\n",
    "    table = pd.concat([table, res], axis=0)"
   ]
  },
  {
   "cell_type": "code",
   "execution_count": 195,
   "metadata": {
    "collapsed": false
   },
   "outputs": [
    {
     "name": "stdout",
     "output_type": "stream",
     "text": [
      "\n",
      "\n",
      "\n"
     ]
    }
   ],
   "source": [
    "for restart_period in [7, 5, 3]:\n",
    "    res = experiment_SA(tsp, 1000, restart_period=restart_period)\n",
    "    table = pd.concat([table, res], axis=0)"
   ]
  },
  {
   "cell_type": "code",
   "execution_count": 217,
   "metadata": {
    "collapsed": false
   },
   "outputs": [
    {
     "name": "stdout",
     "output_type": "stream",
     "text": [
      "\n",
      "\n",
      "\n"
     ]
    }
   ],
   "source": [
    "for max_temperature in [70, 20, 5]:\n",
    "    res = experiment_SA(tsp, 1000, restart_period=3,\n",
    "                        max_temperature=max_temperature,\n",
    "                        min_temperature=1e-2)\n",
    "    table = pd.concat([table, res], axis=0)"
   ]
  },
  {
   "cell_type": "code",
   "execution_count": 218,
   "metadata": {
    "collapsed": true
   },
   "outputs": [],
   "source": [
    "# import visualization libraries\n",
    "import matplotlib\n",
    "%matplotlib inline\n",
    "import matplotlib.pyplot as plt\n",
    "import seaborn as sns\n",
    "sns.set()"
   ]
  },
  {
   "cell_type": "code",
   "execution_count": 219,
   "metadata": {
    "collapsed": false
   },
   "outputs": [
    {
     "data": {
      "text/plain": [
       "heur\n",
       "SA_100.0,0.003,0.1,10     10.000000\n",
       "SA_100.0,0.003,0.1,100     9.414214\n",
       "SA_100.0,0.003,0.1,20      9.414214\n",
       "SA_100.0,0.003,0.1,200     9.414214\n",
       "SA_100.0,0.003,0.1,3      10.650282\n",
       "SA_100.0,0.003,0.1,300     9.414214\n",
       "SA_100.0,0.003,0.1,40      9.414214\n",
       "SA_100.0,0.003,0.1,400     9.414214\n",
       "SA_100.0,0.003,0.1,5      10.000000\n",
       "SA_100.0,0.003,0.1,50      9.414214\n",
       "SA_100.0,0.003,0.1,500     9.414214\n",
       "SA_100.0,0.003,0.1,7      10.000000\n",
       "SA_100.0,0.003,0.1,700     9.414214\n",
       "SA_100.0,0.003,0.1,800     9.414214\n",
       "SA_100.0,0.003,0.1,900     9.414214\n",
       "SA_100.0,0.003,0.1,inf     9.414214\n",
       "SA_20,0.003,0.01,3        10.650282\n",
       "SA_5,0.003,0.01,3         10.828427\n",
       "SA_70,0.003,0.01,3        10.650282\n",
       "SG_0                      10.000000\n",
       "SG_20                      9.414214\n",
       "SG_5                       9.414214\n",
       "SG_inf                     9.414214\n",
       "Name: best_y, dtype: float64"
      ]
     },
     "execution_count": 219,
     "metadata": {},
     "output_type": "execute_result"
    }
   ],
   "source": [
    "table.groupby(['heur'])['best_y'].median()"
   ]
  },
  {
   "cell_type": "code",
   "execution_count": 220,
   "metadata": {
    "collapsed": false
   },
   "outputs": [
    {
     "data": {
      "text/plain": [
       "heur\n",
       "SA_100.0,0.003,0.1,10     10.029020\n",
       "SA_100.0,0.003,0.1,100     9.647542\n",
       "SA_100.0,0.003,0.1,20      9.822040\n",
       "SA_100.0,0.003,0.1,200     9.651766\n",
       "SA_100.0,0.003,0.1,3      10.377100\n",
       "SA_100.0,0.003,0.1,300     9.629062\n",
       "SA_100.0,0.003,0.1,40      9.756989\n",
       "SA_100.0,0.003,0.1,400     9.677219\n",
       "SA_100.0,0.003,0.1,5      10.175149\n",
       "SA_100.0,0.003,0.1,50      9.723070\n",
       "SA_100.0,0.003,0.1,500     9.723052\n",
       "SA_100.0,0.003,0.1,7      10.070398\n",
       "SA_100.0,0.003,0.1,700     9.697685\n",
       "SA_100.0,0.003,0.1,800     9.719775\n",
       "SA_100.0,0.003,0.1,900     9.671766\n",
       "SA_100.0,0.003,0.1,inf     9.784710\n",
       "SA_20,0.003,0.01,3        10.559421\n",
       "SA_5,0.003,0.01,3         10.659272\n",
       "SA_70,0.003,0.01,3        10.462453\n",
       "SG_0                      10.060658\n",
       "SG_20                      9.485259\n",
       "SG_5                       9.516454\n",
       "SG_inf                     9.489894\n",
       "Name: best_y, dtype: float64"
      ]
     },
     "execution_count": 220,
     "metadata": {},
     "output_type": "execute_result"
    }
   ],
   "source": [
    "table.groupby(['heur'])['best_y'].mean()"
   ]
  },
  {
   "cell_type": "code",
   "execution_count": 221,
   "metadata": {
    "collapsed": false
   },
   "outputs": [
    {
     "data": {
      "image/png": "[encoded data removed]",
      "text/plain": [
       "<matplotlib.figure.Figure at 0x7f274a2f6160>"
      ]
     },
     "metadata": {},
     "output_type": "display_data"
    }
   ],
   "source": [
    "ax = sns.boxplot(x=\"heur\", y=\"best_y\", data=table)"
   ]
  },
  {
   "cell_type": "code",
   "execution_count": 222,
   "metadata": {
    "collapsed": true
   },
   "outputs": [],
   "source": [
    "table['success'] = table['neval'] < np.inf"
   ]
  },
  {
   "cell_type": "code",
   "execution_count": 223,
   "metadata": {
    "collapsed": false
   },
   "outputs": [
    {
     "data": {
      "text/plain": [
       "heur\n",
       "SA_100.0,0.003,0.1,10     210.5\n",
       "SA_100.0,0.003,0.1,100    547.0\n",
       "SA_100.0,0.003,0.1,20     283.0\n",
       "SA_100.0,0.003,0.1,200    609.0\n",
       "SA_100.0,0.003,0.1,3      111.5\n",
       "SA_100.0,0.003,0.1,300    625.0\n",
       "SA_100.0,0.003,0.1,40     411.0\n",
       "SA_100.0,0.003,0.1,400    708.0\n",
       "SA_100.0,0.003,0.1,5      152.0\n",
       "SA_100.0,0.003,0.1,50     435.0\n",
       "SA_100.0,0.003,0.1,500    633.0\n",
       "SA_100.0,0.003,0.1,7      171.0\n",
       "SA_100.0,0.003,0.1,700    702.0\n",
       "SA_100.0,0.003,0.1,800    709.0\n",
       "SA_100.0,0.003,0.1,900    713.0\n",
       "SA_100.0,0.003,0.1,inf    677.0\n",
       "SA_20,0.003,0.01,3         94.0\n",
       "SA_5,0.003,0.01,3          70.0\n",
       "SA_70,0.003,0.01,3         89.0\n",
       "SG_0                      466.5\n",
       "SG_20                     273.0\n",
       "SG_5                      300.0\n",
       "SG_inf                    257.0\n",
       "Name: neval, dtype: float64"
      ]
     },
     "execution_count": 223,
     "metadata": {},
     "output_type": "execute_result"
    }
   ],
   "source": [
    "table[table['success'] == True].groupby(['heur'])['neval'].median()"
   ]
  },
  {
   "cell_type": "code",
   "execution_count": 224,
   "metadata": {
    "collapsed": false
   },
   "outputs": [
    {
     "data": {
      "text/plain": [
       "heur\n",
       "SA_100.0,0.003,0.1,10     262.020747\n",
       "SA_100.0,0.003,0.1,100    514.881110\n",
       "SA_100.0,0.003,0.1,20     324.914378\n",
       "SA_100.0,0.003,0.1,200    572.769022\n",
       "SA_100.0,0.003,0.1,3      170.031073\n",
       "SA_100.0,0.003,0.1,300    603.109499\n",
       "SA_100.0,0.003,0.1,40     420.317507\n",
       "SA_100.0,0.003,0.1,400    615.767956\n",
       "SA_100.0,0.003,0.1,5      208.592593\n",
       "SA_100.0,0.003,0.1,50     427.427338\n",
       "SA_100.0,0.003,0.1,500    584.719084\n",
       "SA_100.0,0.003,0.1,7      236.926247\n",
       "SA_100.0,0.003,0.1,700    623.653736\n",
       "SA_100.0,0.003,0.1,800    630.732436\n",
       "SA_100.0,0.003,0.1,900    656.718706\n",
       "SA_100.0,0.003,0.1,inf    607.668885\n",
       "SA_20,0.003,0.01,3        121.742537\n",
       "SA_5,0.003,0.01,3          99.546667\n",
       "SA_70,0.003,0.01,3        138.167722\n",
       "SG_0                      475.141566\n",
       "SG_20                     327.369637\n",
       "SG_5                      362.470452\n",
       "SG_inf                    320.278889\n",
       "Name: neval, dtype: float64"
      ]
     },
     "execution_count": 224,
     "metadata": {},
     "output_type": "execute_result"
    }
   ],
   "source": [
    "table[table['success'] == True].groupby(['heur'])['neval'].mean()"
   ]
  },
  {
   "cell_type": "code",
   "execution_count": 225,
   "metadata": {
    "collapsed": false
   },
   "outputs": [
    {
     "data": {
      "image/png": "[encoded data removed]",
      "text/plain": [
       "<matplotlib.figure.Figure at 0x7f274a53b6a0>"
      ]
     },
     "metadata": {},
     "output_type": "display_data"
    }
   ],
   "source": [
    "ax = sns.boxplot(x=\"heur\", y=\"neval\", data=table[table['success'] == True])"
   ]
  },
  {
   "cell_type": "code",
   "execution_count": 226,
   "metadata": {
    "collapsed": true
   },
   "outputs": [],
   "source": [
    "rel_by_heur = table.pivot_table(\n",
    "    index=['heur'],\n",
    "    values=['neval'],\n",
    "    aggfunc=lambda x: len([n for n in x if n < np.inf])/len(x)\n",
    ")\n",
    "rel_by_heur.sort_values(by='neval', inplace=True)"
   ]
  },
  {
   "cell_type": "code",
   "execution_count": 227,
   "metadata": {
    "collapsed": false
   },
   "outputs": [
    {
     "data": {
      "image/png": "[encoded data removed]",
      "text/plain": [
       "<matplotlib.figure.Figure at 0x7f2749fed048>"
      ]
     },
     "metadata": {},
     "output_type": "display_data"
    }
   ],
   "source": [
    "ax = rel_by_heur.plot(kind='bar')"
   ]
  },
  {
   "cell_type": "code",
   "execution_count": 228,
   "metadata": {
    "collapsed": false
   },
   "outputs": [],
   "source": [
    "feo_by_heur = table.pivot_table(\n",
    "    index=['heur'],\n",
    "    values=['neval'],\n",
    "    aggfunc=lambda x: np.mean([n for n in x if n < np.inf])/(len([n for n in x if n < np.inf])/len(x))\n",
    "    #                 ^^^   mean number of evaluations ^^^ / ^^^             reliability         ^^^^\n",
    ")\n",
    "feo_by_heur.sort_values(by='neval', inplace=True)"
   ]
  },
  {
   "cell_type": "code",
   "execution_count": 229,
   "metadata": {
    "collapsed": false
   },
   "outputs": [
    {
     "data": {
      "image/png": "[encoded data removed]",
      "text/plain": [
       "<matplotlib.figure.Figure at 0x7f274a206f28>"
      ]
     },
     "metadata": {},
     "output_type": "display_data"
    }
   ],
   "source": [
    "ax = feo_by_heur.plot(kind='bar')"
   ]
  },
  {
   "cell_type": "code",
   "execution_count": null,
   "metadata": {
    "collapsed": true
   },
   "outputs": [],
   "source": []
  },
  {
   "cell_type": "code",
   "execution_count": null,
   "metadata": {
    "collapsed": true
   },
   "outputs": [],
   "source": []
  },
  {
   "cell_type": "code",
   "execution_count": null,
   "metadata": {
    "collapsed": true
   },
   "outputs": [],
   "source": []
  }
 ],
 "metadata": {
  "kernelspec": {
   "display_name": "Python 3",
   "language": "python",
   "name": "python3"
  },
  "language_info": {
   "codemirror_mode": {
    "name": "ipython",
    "version": 3
   },
   "file_extension": ".py",
   "mimetype": "text/x-python",
   "name": "python",
   "nbconvert_exporter": "python",
   "pygments_lexer": "ipython3",
   "version": "3.6.0"
  },
  "widgets": {
   "state": {
    "0de4e41b87e644019492764cc18e0a5f": {
     "views": [
      {
       "cell_index": 11
      }
     ]
    },
    "1b3db41635144de79ba7277d4ae6dee2": {
     "views": [
      {
       "cell_index": 10
      }
     ]
    },
    "1c385f1b59fb4406b1b2c76215e3984e": {
     "views": [
      {
       "cell_index": 9
      }
     ]
    },
    "1dfcde94a6e3499898aa37e4947a1ae9": {
     "views": [
      {
       "cell_index": 7
      }
     ]
    },
    "2171ea0504ce4e2ab61abcaa27dff657": {
     "views": [
      {
       "cell_index": 8
      }
     ]
    },
    "3a343e81b0944ef2ae4d68b16d2a6358": {
     "views": [
      {
       "cell_index": 12
      }
     ]
    },
    "4196b26124ca4b0aa3f9e04df285a9d7": {
     "views": [
      {
       "cell_index": 10
      }
     ]
    },
    "4ce14a84bf9a446d89304c4323b1b41f": {
     "views": [
      {
       "cell_index": 11
      }
     ]
    },
    "527242b5018f40dda6a9cb319e47597c": {
     "views": [
      {
       "cell_index": 13
      }
     ]
    },
    "5d76d9a6bef24aa4947c0e6747c011cd": {
     "views": [
      {
       "cell_index": 8
      }
     ]
    },
    "5d9f73ff996941a09247d63fc78bd056": {
     "views": [
      {
       "cell_index": 9
      }
     ]
    },
    "6bd21534175e4815beda6c643c93ffde": {
     "views": [
      {
       "cell_index": 9
      }
     ]
    },
    "811cc894b4b8452f9dbabe2ce74d0029": {
     "views": [
      {
       "cell_index": 8
      }
     ]
    },
    "8f31675496aa4516aa139257caa3d621": {
     "views": [
      {
       "cell_index": 12
      }
     ]
    },
    "8fe00a7cf6324348acb7a0e389f3b927": {
     "views": [
      {
       "cell_index": 11
      }
     ]
    },
    "9fcae3d3423c48a8932476e5c759e7a7": {
     "views": [
      {
       "cell_index": 13
      }
     ]
    },
    "a09346ce275d43538f90fc4e7567d6c4": {
     "views": [
      {
       "cell_index": 7
      }
     ]
    },
    "a4a8171a68fd43a5b52676b5a7f14561": {
     "views": [
      {
       "cell_index": 13
      }
     ]
    },
    "aa496692f6934c7d909ec092a3788741": {
     "views": [
      {
       "cell_index": 9
      }
     ]
    },
    "b5980fed5feb4a1fb7a33f17c5ebf151": {
     "views": [
      {
       "cell_index": 10
      }
     ]
    },
    "bfbf6794c69e4dd891c1fee07eab9ff3": {
     "views": [
      {
       "cell_index": 8
      }
     ]
    },
    "cc125e77cb834898bc975e17ff57ceea": {
     "views": [
      {
       "cell_index": 12
      }
     ]
    },
    "d13afbe2c59741c89dece2099637dbb6": {
     "views": [
      {
       "cell_index": 7
      }
     ]
    },
    "d98433189cb9460c8a99b09caed3dfb1": {
     "views": [
      {
       "cell_index": 8
      }
     ]
    },
    "e6b8940c5f294c2ba2823f08019b67b8": {
     "views": [
      {
       "cell_index": 7
      }
     ]
    },
    "eb2dfbda913344f8bc97d47f713d93e0": {
     "views": [
      {
       "cell_index": 9
      }
     ]
    },
    "f3f7567ea6aa4b289e56a14edc6d6763": {
     "views": [
      {
       "cell_index": 8
      }
     ]
    }
   },
   "version": "1.2.0"
  }
 },
 "nbformat": 4,
 "nbformat_minor": 2
}
